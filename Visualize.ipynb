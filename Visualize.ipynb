{
 "cells": [
  {
   "cell_type": "code",
   "execution_count": 259,
   "metadata": {},
   "outputs": [],
   "source": [
    "from matplotlib import pyplot as plt\n",
    "import numpy as np\n",
    "from skimage.io import imread\n",
    "from skimage.color import rgb2gray\n",
    "from sklearn.cluster import KMeans\n",
    "import os\n",
    "from scipy.spatial.distance import cdist\n",
    "import copy\n",
    "from scipy.signal import convolve2d\n",
    "from scipy.ndimage import rank_filter\n",
    "from scipy.stats import norm\n",
    "from scipy.misc import imsave\n",
    "from PIL import Image"
   ]
  },
  {
   "cell_type": "code",
   "execution_count": null,
   "metadata": {},
   "outputs": [],
   "source": [
    "data = [(1, 49), (2, 53), (3, 62), (4, 72), (5, 69),(6, 65), (7,70), (8, 72), (9, 73), (10, 72), (11, 71), (12, 73), (13, 72), (14, 72), (16, 72), (18, 73)]"
   ]
  },
  {
   "cell_type": "code",
   "execution_count": null,
   "metadata": {},
   "outputs": [],
   "source": [
    "x = [k[0] for k in data]"
   ]
  },
  {
   "cell_type": "code",
   "execution_count": null,
   "metadata": {},
   "outputs": [],
   "source": [
    "y = [k[1] for k in data]"
   ]
  },
  {
   "cell_type": "code",
   "execution_count": null,
   "metadata": {},
   "outputs": [],
   "source": [
    "plt.plot(x, y, color = 'orange')\n",
    "# plt.plot(range(1, len(accuracy_0_1 )+1), accuracy_0_1, color = 'green')\n",
    "plt.xlabel(\"patch dimensions\")\n",
    "plt.ylabel(\"Total correct out of 100\")\n",
    "plt.title(\"Tinyimage KNN(3)\")\n",
    "plt.savefig('./images/Tinyimage knn(3).png')\n",
    "plt.show()"
   ]
  },
  {
   "cell_type": "code",
   "execution_count": null,
   "metadata": {},
   "outputs": [],
   "source": []
  },
  {
   "cell_type": "code",
   "execution_count": 2,
   "metadata": {},
   "outputs": [],
   "source": [
    "class CatsvDogsDataset(object):\n",
    "    def __init__(self, dataset_dir):\n",
    "        self.dataset_dir = dataset_dir\n",
    "        self.image_dir = os.path.join(dataset_dir, 'images')\n",
    "        self.labels_file = os.path.join(dataset_dir, 'labels.txt')\n",
    "        assert os.path.exists(self.labels_file)\n",
    "        self.__read_labels_file__()\n",
    "        self.train_indices = np.where(self.image_sets == 1)[0]\n",
    "        self.val_indices = np.where(self.image_sets == 2)[0]\n",
    "        self.test_indices = np.where(self.image_sets == 3)[0]\n",
    "\n",
    "    def __read_labels_file__(self):\n",
    "        self.image_names = []\n",
    "        self.class_ids = []\n",
    "        self.image_sets = []\n",
    "        with open(self.labels_file, 'r') as f:\n",
    "            for line in f.readlines():\n",
    "                n, i, s = line.strip().split()\n",
    "                self.image_names.append(n)\n",
    "                self.class_ids.append(int(i))\n",
    "                self.image_sets.append(int(s))\n",
    "        self.image_names = np.array(self.image_names)\n",
    "        self.class_ids = np.array(self.class_ids)\n",
    "        self.image_sets = np.array(self.image_sets)\n",
    "\n",
    "\n",
    "def read_dataset(dataset_dir):\n",
    "    return CatsvDogsDataset(dataset_dir)"
   ]
  },
  {
   "cell_type": "code",
   "execution_count": 231,
   "metadata": {},
   "outputs": [],
   "source": [
    "def extract_local_features(im, r, stride):\n",
    "    features = []\n",
    "    start = (0 + r, 0 + r)\n",
    "    \n",
    "    while(start[0] + r < im.shape[0]):\n",
    "        while(start[1] + r < im.shape[1]):\n",
    "            patch = []\n",
    "            for i in range(int(start[0] - r), int(start[0] + r + 1)):\n",
    "                for j in range(int(start[1] - r), int(start[1] + r + 1)):\n",
    "                    patch.append(im[i, j])\n",
    "            features.append(patch)\n",
    "            start = (start[0], start[1] + stride)\n",
    "        start = (start[0] + stride, 0 + r)    \n",
    "    return features\n",
    "    \n",
    "def extract_sift_features(im, r, stride):\n",
    "    features = []\n",
    "    start = [[0 + r, 0 + r]]\n",
    "    while(start[0][0] + r < im.shape[0]):\n",
    "        while(start[0][1] + r < im.shape[1]):\n",
    "            features.append(find_sift(I=im, circles = np.asarray(start), radius = r)[0])\n",
    "            start = [[start[0][0], start[0][1] + stride]]\n",
    "        start = [[start[0][0] + stride, 0 + r]]\n",
    "    return np.asarray(features)\n",
    "    \n",
    "def createDictionary(img_list, r, stride, clusterCount, imdb):\n",
    "    features = []\n",
    "    for im in img_list:\n",
    "        npImage = imread(os.path.join(imdb.image_dir, im))\n",
    "        npImage = rgb2gray(npImage)\n",
    "        features.extend(extract_local_features(npImage, r, stride))\n",
    "    \n",
    "    kmeans = KMeans(n_clusters=clusterCount, random_state=0).fit(features)\n",
    "    return kmeans.cluster_centers_\n",
    "\n",
    "def createSiftDictionary(img_list, r, stride, clusterCount, imdb):\n",
    "    features = []\n",
    "    for im in img_list:\n",
    "        npImage = imread(os.path.join(imdb.image_dir, im))\n",
    "        npImage = rgb2gray(npImage)\n",
    "        features.extend(extract_sift_features(npImage, r, stride))\n",
    "    \n",
    "    kmeans = KMeans(n_clusters=clusterCount, random_state=0).fit(features)\n",
    "    return kmeans.cluster_centers_"
   ]
  },
  {
   "cell_type": "code",
   "execution_count": 249,
   "metadata": {},
   "outputs": [],
   "source": [
    "imdb = read_dataset(\"./data\")"
   ]
  },
  {
   "cell_type": "code",
   "execution_count": 194,
   "metadata": {},
   "outputs": [],
   "source": []
  },
  {
   "cell_type": "code",
   "execution_count": 240,
   "metadata": {},
   "outputs": [],
   "source": [
    "def createSiftDictionary(img_list, r, stride, clusterCount, imdb):\n",
    "    features = []\n",
    "    for im in img_list[:2]:\n",
    "        npImage = imread(os.path.join(imdb.image_dir, im))\n",
    "        npImage = rgb2gray(npImage)\n",
    "        features.extend(extract_sift_features(npImage, r, stride))\n",
    "        print(\"asdf\")\n",
    "    print(\"*******************\")\n",
    "    kmeans = KMeans(n_clusters=clusterCount, random_state=0).fit(features)\n",
    "    return kmeans.cluster_centers_"
   ]
  },
  {
   "cell_type": "code",
   "execution_count": 242,
   "metadata": {},
   "outputs": [
    {
     "name": "stdout",
     "output_type": "stream",
     "text": [
      "asdf\n",
      "asdf\n",
      "*******************\n"
     ]
    }
   ],
   "source": [
    "train_val = list(imdb.train_indices) + list(imdb.val_indices)\n",
    "train_val = imdb.image_names[train_val]\n",
    "clusterCount = 128\n",
    "centers = createSiftDictionary(train_val, 8, 20, clusterCount, imdb)"
   ]
  },
  {
   "cell_type": "code",
   "execution_count": 245,
   "metadata": {},
   "outputs": [],
   "source": [
    "def bow_patch_features(imdb, dictionarysize, radius, stride):\n",
    "    '''\n",
    "     STEP 1: Write a function that extracts dense grayscale patches from an image\n",
    "     STEP 2: Learn a dictionary\n",
    "               -- sample many desriptors (~10k) from train+val images\n",
    "               -- learn a dictionary using k-means\n",
    "     STEP 3: Loop over all the images  and extract\n",
    "             features (same as step 1). Build global histograms over these.\n",
    "    '''\n",
    "    train_val = list(imdb.train_indices) + list(imdb.val_indices)\n",
    "    train_val = imdb.image_names[train_val]\n",
    "    clusterCount = dictionarysize\n",
    "    \n",
    "    centers = createDictionary(train_val, radius, stride, clusterCount, imdb)\n",
    "    return centers\n",
    "#     features = np.zeros((len(imdb.image_names), clusterCount) )\n",
    "\n",
    "#     for index, image in enumerate(imdb.image_names):\n",
    "#         hist = np.zeros((clusterCount))\n",
    "#         npImage = rgb2gray(imread(os.path.join(imdb.image_dir, image)))\n",
    "#         f1 = extract_local_features(npImage, radius, stride)\n",
    "#         distMatrix = cdist(f1, centers, 'sqeuclidean')\n",
    "#         min_index = np.argmin(distMatrix, axis=1)\n",
    "#         for i in min_index:\n",
    "#             hist[i] += 1\n",
    "#         features[index, :] = hist\n",
    "#     return features"
   ]
  },
  {
   "cell_type": "code",
   "execution_count": 266,
   "metadata": {},
   "outputs": [],
   "source": [
    "dic = bow_patch_features(imdb, 128, 9, 20)"
   ]
  },
  {
   "cell_type": "code",
   "execution_count": 269,
   "metadata": {},
   "outputs": [],
   "source": [
    "image_dict = np.zeros((128, 19, 19))\n",
    "for i in range(dic.shape[0]):\n",
    "    image_dict[i] = dic[i].reshape((19,19))"
   ]
  },
  {
   "cell_type": "code",
   "execution_count": 270,
   "metadata": {},
   "outputs": [],
   "source": [
    "def save_img_c(array, filename):\n",
    "    \"\"\"\n",
    "    Saves given numpy array to ./images folder with given filename\n",
    "    \"\"\"\n",
    "    imsave(\"./images/\"+ filename, array)"
   ]
  },
  {
   "cell_type": "code",
   "execution_count": 271,
   "metadata": {},
   "outputs": [],
   "source": [
    "def save_img(array, filename):\n",
    "    \"\"\"\n",
    "    Saves given numpy array to ./images folder with given filename\n",
    "    \"\"\"\n",
    "    img_new = Image.fromarray(array)\n",
    "    img_new = img_new.convert(\"RGB\")\n",
    "    fp = open(\"./images/\" + filename, \"wb\")\n",
    "    img_new.save(fp)\n",
    "    fp.close()\n",
    "    return None"
   ]
  },
  {
   "cell_type": "code",
   "execution_count": 272,
   "metadata": {},
   "outputs": [],
   "source": [
    "for i in range(image_dict.shape[0]):\n",
    "    save_img(image_dict[i] * 255, \"test\" + str(i) + \".png\")"
   ]
  },
  {
   "cell_type": "code",
   "execution_count": 273,
   "metadata": {},
   "outputs": [
    {
     "data": {
      "text/plain": [
       "array([[0.49776323, 0.51493311, 0.5236036 , 0.53757837, 0.55317617,\n",
       "        0.56632021, 0.56912459, 0.57921623, 0.58162113, 0.58686973,\n",
       "        0.59789813, 0.61124492, 0.61550127, 0.62047779, 0.6349312 ,\n",
       "        0.64780733, 0.65432154, 0.65115091, 0.64382723],\n",
       "       [0.49928166, 0.51238068, 0.52015017, 0.53288877, 0.54752526,\n",
       "        0.57154504, 0.57882015, 0.57747927, 0.5852169 , 0.58930416,\n",
       "        0.60205804, 0.61548853, 0.62114092, 0.63067497, 0.64382044,\n",
       "        0.65229823, 0.66069795, 0.6584599 , 0.66411398],\n",
       "       [0.49735869, 0.51546788, 0.52612495, 0.54081688, 0.55467983,\n",
       "        0.56498515, 0.57062186, 0.58351422, 0.59485356, 0.60286396,\n",
       "        0.6089598 , 0.62535355, 0.62670803, 0.63884055, 0.64758715,\n",
       "        0.65980246, 0.66769206, 0.67114904, 0.67487779],\n",
       "       [0.50073496, 0.51864679, 0.53817612, 0.5414045 , 0.55253904,\n",
       "        0.55763412, 0.56789503, 0.57608659, 0.59274224, 0.60353929,\n",
       "        0.61893759, 0.62691694, 0.6314409 , 0.64113414, 0.65622317,\n",
       "        0.66806512, 0.67426506, 0.68264156, 0.67975692],\n",
       "       [0.5124777 , 0.51426337, 0.53374839, 0.53599975, 0.55256891,\n",
       "        0.56090227, 0.57223643, 0.57875135, 0.58345811, 0.60258946,\n",
       "        0.61274677, 0.61559031, 0.6403196 , 0.65699007, 0.6624933 ,\n",
       "        0.6763898 , 0.68477502, 0.68044023, 0.68225289],\n",
       "       [0.50913038, 0.51672722, 0.52834068, 0.53501975, 0.54728747,\n",
       "        0.55832445, 0.56533486, 0.5814515 , 0.58005947, 0.59313441,\n",
       "        0.60624347, 0.61850703, 0.64220866, 0.65331507, 0.66527384,\n",
       "        0.67826391, 0.68605615, 0.68356153, 0.68270915],\n",
       "       [0.49328448, 0.51469046, 0.53196068, 0.53177968, 0.53790964,\n",
       "        0.55264348, 0.55762208, 0.57475227, 0.58010158, 0.59071792,\n",
       "        0.60726111, 0.63009706, 0.63650073, 0.65045097, 0.66293865,\n",
       "        0.67691756, 0.68376304, 0.6883722 , 0.69624865],\n",
       "       [0.49402114, 0.50813324, 0.52416621, 0.53399049, 0.54109782,\n",
       "        0.55207589, 0.56252569, 0.57283666, 0.58226507, 0.59659879,\n",
       "        0.60942361, 0.63017881, 0.63979013, 0.65470515, 0.66561145,\n",
       "        0.68396679, 0.68607096, 0.68639831, 0.69549655],\n",
       "       [0.49969947, 0.51394714, 0.52643897, 0.54414573, 0.55859897,\n",
       "        0.55776334, 0.56431335, 0.58324336, 0.58837544, 0.59364457,\n",
       "        0.61405003, 0.63405583, 0.6477064 , 0.66398902, 0.67396883,\n",
       "        0.68618587, 0.69092432, 0.69324803, 0.68892404],\n",
       "       [0.51207246, 0.52324508, 0.53351482, 0.5421294 , 0.55203904,\n",
       "        0.56552146, 0.57364481, 0.57992166, 0.59482796, 0.6042998 ,\n",
       "        0.61771992, 0.63458324, 0.6501862 , 0.67139939, 0.67508973,\n",
       "        0.68192279, 0.69474341, 0.69968   , 0.70127059],\n",
       "       [0.51122569, 0.5216945 , 0.52784903, 0.54339597, 0.55204844,\n",
       "        0.56774366, 0.58064871, 0.58447959, 0.60026894, 0.60976756,\n",
       "        0.6194266 , 0.6309303 , 0.64791887, 0.66776686, 0.67912094,\n",
       "        0.68681863, 0.69670176, 0.70601072, 0.7039935 ],\n",
       "       [0.51494938, 0.51952909, 0.53481708, 0.54909993, 0.56288082,\n",
       "        0.57579611, 0.58814693, 0.59518516, 0.6107749 , 0.61095485,\n",
       "        0.621277  , 0.63627649, 0.65964471, 0.67082576, 0.68138591,\n",
       "        0.68414329, 0.69560385, 0.70661462, 0.70716047],\n",
       "       [0.51568058, 0.52132558, 0.53623851, 0.55457612, 0.56256611,\n",
       "        0.57315153, 0.58153715, 0.59646504, 0.61155295, 0.61571537,\n",
       "        0.62939473, 0.64112594, 0.6574413 , 0.66432925, 0.67994074,\n",
       "        0.68938751, 0.69769341, 0.7073995 , 0.70627926],\n",
       "       [0.5160214 , 0.52191489, 0.54275756, 0.5539591 , 0.55902879,\n",
       "        0.56545829, 0.57939888, 0.59507597, 0.60917957, 0.62293291,\n",
       "        0.6369609 , 0.64501714, 0.65307583, 0.66637663, 0.68523581,\n",
       "        0.70206172, 0.69831036, 0.70677317, 0.70262615],\n",
       "       [0.51947234, 0.53399651, 0.54346503, 0.55159781, 0.55939792,\n",
       "        0.56860173, 0.57748155, 0.59158041, 0.60848691, 0.62547607,\n",
       "        0.63666616, 0.64241688, 0.65525707, 0.6708358 , 0.68558956,\n",
       "        0.69163194, 0.69592505, 0.6964071 , 0.69906817],\n",
       "       [0.52691784, 0.53580653, 0.54181799, 0.55355301, 0.55718259,\n",
       "        0.57538246, 0.58497344, 0.57927436, 0.60712177, 0.62064353,\n",
       "        0.63458809, 0.64879102, 0.65827183, 0.67094499, 0.67691745,\n",
       "        0.68581938, 0.69439627, 0.69340684, 0.69378359],\n",
       "       [0.52715188, 0.52989284, 0.54778791, 0.56111796, 0.55812401,\n",
       "        0.56647767, 0.58118036, 0.59589619, 0.60943955, 0.61715697,\n",
       "        0.64017144, 0.6510589 , 0.6586471 , 0.67100496, 0.67307089,\n",
       "        0.67930301, 0.69573032, 0.69119946, 0.69630857],\n",
       "       [0.52418285, 0.52686513, 0.54445118, 0.56078166, 0.56345953,\n",
       "        0.57552894, 0.58913496, 0.59237548, 0.60793493, 0.61788053,\n",
       "        0.63358   , 0.64783167, 0.66031299, 0.66689315, 0.67165869,\n",
       "        0.67456009, 0.69221123, 0.68974069, 0.68667439],\n",
       "       [0.5252965 , 0.5394464 , 0.55539384, 0.55639413, 0.5640756 ,\n",
       "        0.57535883, 0.58568453, 0.59889293, 0.61408755, 0.62052446,\n",
       "        0.63264528, 0.64142955, 0.65622711, 0.66831857, 0.67109838,\n",
       "        0.67406156, 0.68841981, 0.69082094, 0.68345326]])"
      ]
     },
     "execution_count": 273,
     "metadata": {},
     "output_type": "execute_result"
    }
   ],
   "source": [
    "image_dict[0]"
   ]
  },
  {
   "cell_type": "code",
   "execution_count": null,
   "metadata": {},
   "outputs": [],
   "source": []
  },
  {
   "cell_type": "code",
   "execution_count": 160,
   "metadata": {},
   "outputs": [],
   "source": [
    "test = features.copy()"
   ]
  },
  {
   "cell_type": "code",
   "execution_count": 162,
   "metadata": {},
   "outputs": [],
   "source": [
    "    for i in range(test.shape[0]):\n",
    "        test[i] = test[i] / test[i].sum()"
   ]
  },
  {
   "cell_type": "code",
   "execution_count": 168,
   "metadata": {},
   "outputs": [
    {
     "data": {
      "text/plain": [
       "0.9999999999999998"
      ]
     },
     "execution_count": 168,
     "metadata": {},
     "output_type": "execute_result"
    }
   ],
   "source": [
    "test[133].sum()"
   ]
  },
  {
   "cell_type": "code",
   "execution_count": 186,
   "metadata": {},
   "outputs": [],
   "source": [
    "def gen_dgauss(sigma):\n",
    "    \"\"\"\n",
    "    Generates the horizontally and vertically differentiated Gaussian filter\n",
    "\n",
    "    Parameters\n",
    "    ----------\n",
    "    sigma: float\n",
    "        Standard deviation of the Gaussian distribution\n",
    "\n",
    "    Returns\n",
    "    -------\n",
    "    Gx: numpy.ndarray\n",
    "        First degree derivative of the Gaussian filter across rows\n",
    "    Gy: numpy.ndarray\n",
    "        First degree derivative of the Gaussian filter across columns\n",
    "    \"\"\"\n",
    "    f_wid = 4 * np.floor(sigma)\n",
    "    G = norm.pdf(np.arange(-f_wid, f_wid + 1),\n",
    "                 loc=0, scale=sigma).reshape(-1, 1)\n",
    "    G = G.T * G\n",
    "    Gx, Gy = np.gradient(G)\n",
    "\n",
    "    Gx = Gx * 2 / np.abs(Gx).sum()\n",
    "    Gy = Gy * 2 / np.abs(Gy).sum()\n",
    "\n",
    "    return Gx, Gy\n",
    "\n",
    "def find_sift(I, circles, radius= 8):\n",
    "    \"\"\"\n",
    "    Compute non-rotation-invariant SITF descriptors of a set of circles\n",
    "\n",
    "    Parameters\n",
    "    ----------\n",
    "    I: numpy.ndarray\n",
    "        Image\n",
    "    circles: numpy.ndarray\n",
    "        An array of shape `(ncircles, 3)` where ncircles is the number of\n",
    "        circles, and each circle is defined by (x, y, r), where r is the radius\n",
    "        of the cirlce\n",
    "    enlarge_factor: float\n",
    "        Factor which indicates by how much to enlarge the radius of the circle\n",
    "        before computing the descriptor (a factor of 1.5 or large is usually\n",
    "        necessary for best performance)\n",
    "\n",
    "    Returns\n",
    "    -------\n",
    "    sift_arr: numpy.ndarray\n",
    "        Array of SIFT descriptors of shape `(ncircles, 128)`\n",
    "    \"\"\"\n",
    "    assert circles.ndim == 2 and circles.shape[1] == 2, \\\n",
    "        'Use circles array (keypoints array) of correct shape'\n",
    "    I = I.astype(np.float64)\n",
    "    if I.ndim == 3:\n",
    "        I = rgb2gray(I)\n",
    "\n",
    "    NUM_ANGLES = 8\n",
    "    NUM_BINS = 4\n",
    "    NUM_SAMPLES = NUM_BINS * NUM_BINS\n",
    "    ALPHA = 9\n",
    "    SIGMA_EDGE = 1\n",
    "\n",
    "    ANGLE_STEP = 2 * np.pi / NUM_ANGLES\n",
    "    angles = np.arange(0, 2 * np.pi, ANGLE_STEP)\n",
    "\n",
    "    height, width = I.shape[:2]\n",
    "    num_pts = circles.shape[0]\n",
    "\n",
    "    sift_arr = np.zeros((num_pts, NUM_SAMPLES * NUM_ANGLES))\n",
    "\n",
    "    Gx, Gy = gen_dgauss(SIGMA_EDGE)\n",
    "\n",
    "    Ix = convolve2d(I, Gx, 'same')\n",
    "    Iy = convolve2d(I, Gy, 'same')\n",
    "    I_mag = np.sqrt(Ix ** 2 + Iy ** 2)\n",
    "    I_theta = np.arctan2(Ix, Iy + 1e-12)\n",
    "\n",
    "    interval = np.arange(-1 + 1/NUM_BINS, 1 + 1/NUM_BINS, 2/NUM_BINS)\n",
    "    gridx, gridy = np.meshgrid(interval, interval)\n",
    "    gridx = gridx.reshape((1, -1))\n",
    "    gridy = gridy.reshape((1, -1))\n",
    "\n",
    "    I_orientation = np.zeros((height, width, NUM_ANGLES))\n",
    "\n",
    "    for i in range(NUM_ANGLES):\n",
    "        tmp = np.cos(I_theta - angles[i]) ** ALPHA\n",
    "        tmp = tmp * (tmp > 0)\n",
    "\n",
    "        I_orientation[:, :, i] = tmp * I_mag\n",
    "\n",
    "    for i in range(num_pts):\n",
    "        cy, cx = circles[i, :2]\n",
    "#         r = circles[i, 2]\n",
    "        r = radius\n",
    "\n",
    "        gridx_t = gridx * r + cx\n",
    "        gridy_t = gridy * r + cy\n",
    "        grid_res = 2.0 / NUM_BINS * r\n",
    "\n",
    "        x_lo = np.floor(np.max([cx - r - grid_res / 2, 0])).astype(np.int32)\n",
    "        x_hi = np.ceil(np.min([cx + r + grid_res / 2, width])).astype(np.int32)\n",
    "        y_lo = np.floor(np.max([cy - r - grid_res / 2, 0])).astype(np.int32)\n",
    "        y_hi = np.ceil(\n",
    "            np.min([cy + r + grid_res / 2, height])).astype(np.int32)\n",
    "\n",
    "        grid_px, grid_py = np.meshgrid(\n",
    "            np.arange(x_lo, x_hi, 1),\n",
    "            np.arange(y_lo, y_hi, 1))\n",
    "        grid_px = grid_px.reshape((-1, 1))\n",
    "        grid_py = grid_py.reshape((-1, 1))\n",
    "\n",
    "        dist_px = np.abs(grid_px - gridx_t)\n",
    "        dist_py = np.abs(grid_py - gridy_t)\n",
    "\n",
    "        weight_x = dist_px / (grid_res + 1e-12)\n",
    "        weight_x = (1 - weight_x) * (weight_x <= 1)\n",
    "        weight_y = dist_py / (grid_res + 1e-12)\n",
    "        weight_y = (1 - weight_y) * (weight_y <= 1)\n",
    "        weights = weight_x * weight_y\n",
    "\n",
    "        curr_sift = np.zeros((NUM_ANGLES, NUM_SAMPLES))\n",
    "        for j in range(NUM_ANGLES):\n",
    "            tmp = I_orientation[y_lo:y_hi, x_lo:x_hi, j].reshape((-1, 1))\n",
    "            curr_sift[j, :] = (tmp * weights).sum(axis=0)\n",
    "        sift_arr[i, :] = curr_sift.flatten()\n",
    "\n",
    "    tmp = np.sqrt(np.sum(sift_arr ** 2, axis=-1))\n",
    "    if np.sum(tmp > 1) > 0:\n",
    "        sift_arr_norm = sift_arr[tmp > 1, :]\n",
    "        sift_arr_norm /= tmp[tmp > 1].reshape(-1, 1)\n",
    "\n",
    "        sift_arr_norm = np.clip(sift_arr_norm, sift_arr_norm.min(), 0.2)\n",
    "\n",
    "        sift_arr_norm /= np.sqrt(\n",
    "            np.sum(sift_arr_norm ** 2, axis=-1, keepdims=True))\n",
    "\n",
    "        sift_arr[tmp > 1, :] = sift_arr_norm\n",
    "\n",
    "    return sift_arr"
   ]
  },
  {
   "cell_type": "code",
   "execution_count": 244,
   "metadata": {},
   "outputs": [
    {
     "name": "stdout",
     "output_type": "stream",
     "text": [
      "Egyptian_Mau_162.jpg\n"
     ]
    }
   ],
   "source": [
    "print(imdb.image_names[105])"
   ]
  },
  {
   "cell_type": "code",
   "execution_count": 8,
   "metadata": {},
   "outputs": [],
   "source": [
    "import numpy as np"
   ]
  },
  {
   "cell_type": "code",
   "execution_count": 9,
   "metadata": {},
   "outputs": [],
   "source": [
    "t = np.array([1, 4 , 54, 2323])"
   ]
  },
  {
   "cell_type": "code",
   "execution_count": 14,
   "metadata": {},
   "outputs": [
    {
     "ename": "IndexError",
     "evalue": "index 0 is out of bounds for axis 0 with size 0",
     "output_type": "error",
     "traceback": [
      "\u001b[0;31m---------------------------------------------------------------------------\u001b[0m",
      "\u001b[0;31mIndexError\u001b[0m                                Traceback (most recent call last)",
      "\u001b[0;32m<ipython-input-14-d1b5bbee3c3f>\u001b[0m in \u001b[0;36m<module>\u001b[0;34m\u001b[0m\n\u001b[0;32m----> 1\u001b[0;31m \u001b[0mnp\u001b[0m\u001b[0;34m.\u001b[0m\u001b[0mnonzero\u001b[0m\u001b[0;34m(\u001b[0m\u001b[0mt\u001b[0m \u001b[0;34m==\u001b[0m \u001b[0;36m44\u001b[0m\u001b[0;34m)\u001b[0m\u001b[0;34m[\u001b[0m\u001b[0;36m0\u001b[0m\u001b[0;34m]\u001b[0m\u001b[0;34m[\u001b[0m\u001b[0;36m0\u001b[0m\u001b[0;34m]\u001b[0m\u001b[0;34m\u001b[0m\u001b[0;34m\u001b[0m\u001b[0m\n\u001b[0m",
      "\u001b[0;31mIndexError\u001b[0m: index 0 is out of bounds for axis 0 with size 0"
     ]
    }
   ],
   "source": [
    "np.nonzero(t == 44)[0][0]"
   ]
  },
  {
   "cell_type": "code",
   "execution_count": 16,
   "metadata": {},
   "outputs": [
    {
     "data": {
      "text/plain": [
       "list"
      ]
     },
     "execution_count": 16,
     "metadata": {},
     "output_type": "execute_result"
    }
   ],
   "source": [
    "type(sorted(t))"
   ]
  },
  {
   "cell_type": "code",
   "execution_count": 22,
   "metadata": {},
   "outputs": [],
   "source": [
    "t = [23,4, 2,345, 34]"
   ]
  },
  {
   "cell_type": "code",
   "execution_count": 23,
   "metadata": {},
   "outputs": [
    {
     "data": {
      "text/plain": [
       "1"
      ]
     },
     "execution_count": 23,
     "metadata": {},
     "output_type": "execute_result"
    }
   ],
   "source": [
    "t.index(4)"
   ]
  },
  {
   "cell_type": "code",
   "execution_count": null,
   "metadata": {},
   "outputs": [],
   "source": []
  }
 ],
 "metadata": {
  "kernelspec": {
   "display_name": "Python 3",
   "language": "python",
   "name": "python3"
  },
  "language_info": {
   "codemirror_mode": {
    "name": "ipython",
    "version": 3
   },
   "file_extension": ".py",
   "mimetype": "text/x-python",
   "name": "python",
   "nbconvert_exporter": "python",
   "pygments_lexer": "ipython3",
   "version": "3.7.3"
  }
 },
 "nbformat": 4,
 "nbformat_minor": 2
}
